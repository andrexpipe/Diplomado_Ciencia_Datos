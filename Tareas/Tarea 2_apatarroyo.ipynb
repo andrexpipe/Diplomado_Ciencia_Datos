{
 "cells": [
  {
   "cell_type": "markdown",
   "id": "4bec56e5-4463-4b67-a3e2-8d84c75f4c56",
   "metadata": {},
   "source": [
    "## TAREA 2. DIPLOMADO DE CIENCIA DE DATOS"
   ]
  },
  {
   "cell_type": "markdown",
   "id": "2678dc06-8699-4f22-8324-4f5e97aeae27",
   "metadata": {},
   "source": [
    "Andrés Felipe Patarroyo Rubiano\n",
    "7 de agosto de 2023"
   ]
  },
  {
   "cell_type": "markdown",
   "id": "2d7f018b-7f6d-473f-9343-5630b745c765",
   "metadata": {},
   "source": [
    "1. Crea una lección para introducir un concepto de ciencia de datos. Por ejemplo el promedio matemático. La lección debe contener:\n",
    "Título de la lección.\n",
    "Un logo, que puede ser de Python, Aprendizaje Profundo, uno suyo, etc.\n",
    "Presentación del (a) autor(a). Incluir una foto. y breve resumen de su perfil.\n",
    "Escriba una sección presentando el concepto. Use al menos una formula matemática.\n",
    "De un ejemplo ejemplo.\n",
    "Escriba las referencias. Use hipervínculos a al menos un documento."
   ]
  },
  {
   "cell_type": "markdown",
   "id": "6259feb6-ea76-42c1-9c39-057970ed6046",
   "metadata": {},
   "source": [
    "# EL FILTRO DE KALMAN"
   ]
  },
  {
   "cell_type": "markdown",
   "id": "77f94d0b-da64-49d6-a1ba-3b55eafdb65e",
   "metadata": {},
   "source": [
    "<figure>\n",
    "<img src=\"https://github.com/andrexpipe/DiplomadoIA/blob/main/logo-final-ap.png?raw=true\"  width=\"80\" height=\"80\" align=\"left\"/> \n",
    "</figure>\n"
   ]
  },
  {
   "cell_type": "markdown",
   "id": "75203aa9-710a-41ee-b6b3-e7f1cad7f3dd",
   "metadata": {},
   "source": [
    "Autor:\n",
    "Andrés Felipe Patarroyo Rubiano.\n"
   ]
  },
  {
   "cell_type": "markdown",
   "id": "5b0e52c7-d59f-43ff-940f-d37002bb32b5",
   "metadata": {},
   "source": [
    "<figure>\n",
    "    <img src=\"https://github.com/andrexpipe/DiplomadoIA/blob/main/1000x962.png?raw=true\" width=\"200\" height=\"200\" align=\"middle\"/>\n",
    "    </figure>\n",
    "    \n",
    "El autor."
   ]
  },
  {
   "cell_type": "markdown",
   "id": "2154313e-74a9-4ccb-aba5-f516117217a7",
   "metadata": {},
   "source": [
    "Economista y Especialista en estadística de la Universidad Nacional de Colombia y Magíster en Finanzas de la Universidad de los Andes. Interesado en el manejo de herramientas de software para el trabajo con grandes volúmenes de información y en la predicción de variables micro y macroeconómicas. Trabajo principal en las áreas de economía de la salud e impuestos en los niveles de gobierno nacional y distrital, respectivamente. Actualmente, recopilando conocimiento en las áreas de Ciencia de datos e inteligencia artificial para su aplicación en estos campos."
   ]
  },
  {
   "cell_type": "markdown",
   "id": "e875d76e-ebc3-40bf-a721-c0062582fe6a",
   "metadata": {},
   "source": [
    "### INTRODUCCIÓN\n",
    "El filtro de Kalman es un algoritmo desarrollado para predecir variables a partir de su comportamiento pasado. Generalmente se usa en econometría y es valorado porque el peso del error pasado sobre el pronóstico actual es elegido de forma optimizable y no manual como en algunos otros métodos similares."
   ]
  },
  {
   "cell_type": "markdown",
   "id": "487d7857-068c-4451-a47b-436042248981",
   "metadata": {},
   "source": [
    "### CÁLCULO\n",
    "\n",
    "El filtro está asociado a la famila de modelos autorregresivos. Por lo tanto, la estimación de los valores futuros de una variable se asocia a los datos pasados de la misma, aunada a las mediciones pasadas de otras variables conocidas y un error aleatorio asociado a la medición. Matemáticamente:\n",
    "\n",
    "\n",
    "$$  \\quad x_{k}=A_{{k-1}}x_{{k-1}}+B_{{k-1}}u_{{k-1}}+w_{{k-1}} $$\n",
    "$$ \\quad z_{k}=H_{k}x_{k}+v_{k} $$\n",
    "\n",
    "Donde $x_{k}$ y $z_{k}$ son los valores estimado y real de la variable objeto de medición. Hay que recordar que la medición de una variable está asociado a un sesgo y una precisión. En el primer caso, la inexactitud de la medida genera error sistemático en el valor medido respecto de la realidad. En el segundo caso, la incertidumbre se asocia a una variabilidad grande entre las mediciones hechas con el mismo instrumento. Una buena medición tiene bajo sesgo (valor real de la variable muy cercano al medido) y baja varianza en múltiples mediciones (valores medidos muy cercanos uno del otro para el mismo valor de la variable aleatoria medida).\n",
    "\n",
    "Por lo descrito anteriormente, $ w_{k-1} $ y $ v_{k} $ están asociados a ruido blanco de media cero y varianza constante en el instante de tiempo $k$. Así, el valor futuro de la variable $ x_{k} $  se calcula a partir de las mediciones anteriores de $u_{k-i}$, $ z_{k-i}$ y de las varianzas asociadas a los ruidos blancos: $ Q_{k-i}$, $ R_{k-i}$. Finalmanete, también de las estimaciones anteriores de $ x_{k-i}$.\n",
    "\n",
    "##### Ejemplo:\n",
    "En el sector salud se emplea a nivel de manejo de datos para estimar el filtro de Kalman como una forma de calcular el gasto de bolsillo que los hogares hacen en artículos y servicios de salud para medir la protección financiera del sistema de salud en la población. En este caso, el Ministerio de Salud y Protección Social usa esta metodología para hacer la estimación de esta variable para reportar a los organismos de control y multilaterales.\n",
    "\n",
    "Si bien, la estimación anterior corresponde al caso de una variable discreta, el contínuo es semejante y no será abordado en este cuaderno. Para ello, le invito a seguir el estudio del Filtro de Kalman en las siguientes fuentes:\n",
    "\n",
    "[Wikipedia](https://es.wikipedia.org/wiki/Filtro_de_Kalman)\n",
    "\n",
    "[Kalmanfilter.net](https://www.kalmanfilter.net/ES/alphabeta_es.html)\n"
   ]
  },
  {
   "cell_type": "markdown",
   "id": "ad6a9417-3b26-4ed4-8424-bb5c1fb8fef2",
   "metadata": {},
   "source": [
    "2. Cree su perfil en GitHub.\n",
    "Crea una carpeta llamada Diplomado_Ciencia_Datos.\n",
    "Crea  una subcarpeta llamada Tareas.\n",
    "Suba la tarea a la carpeta Tareas."
   ]
  },
  {
   "cell_type": "markdown",
   "id": "7bb0b045-9b53-4d63-9963-23939e4f3b85",
   "metadata": {},
   "source": [
    "[En este enlace puede llegar a la carpeta](https://github.com/andrexpipe/Diplomado_Ciencia_Datos/tree/main/Tareas)"
   ]
  },
  {
   "cell_type": "markdown",
   "id": "db6e737a-b74a-49f6-af6e-327d6e4b60c1",
   "metadata": {},
   "source": [
    "3. Modifique su tarea para incluir un botón para ejecutar la tarea en Colaboratory.\n",
    "Suba de nuevo la tarea a GitHub  y pruebe la ejecución en Colab.\n",
    "Suba el enlace de su tarea  como entrega "
   ]
  }
 ],
 "metadata": {
  "kernelspec": {
   "display_name": "Python 3 (ipykernel)",
   "language": "python",
   "name": "python3"
  },
  "language_info": {
   "codemirror_mode": {
    "name": "ipython",
    "version": 3
   },
   "file_extension": ".py",
   "mimetype": "text/x-python",
   "name": "python",
   "nbconvert_exporter": "python",
   "pygments_lexer": "ipython3",
   "version": "3.10.9"
  }
 },
 "nbformat": 4,
 "nbformat_minor": 5
}
